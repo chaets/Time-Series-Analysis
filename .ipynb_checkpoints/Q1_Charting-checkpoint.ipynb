{
 "cells": [
  {
   "cell_type": "code",
   "execution_count": 1,
   "metadata": {},
   "outputs": [],
   "source": [
    "import os\n",
    "import pandas as pd                                    # panda's nickname is pd\n",
    "import numpy as np                                     # numpy as np\n",
    "from pandas import DataFrame, Series                   # for convenience\n",
    "import matplotlib.pyplot as plt\n",
    "%matplotlib inline"
   ]
  },
  {
   "cell_type": "code",
   "execution_count": 2,
   "metadata": {},
   "outputs": [],
   "source": [
    "# Read the JSON file into a list of dictionaries\n",
    "\n",
    "import json\n",
    "list_of_issues_dict_data = [json.loads(line) for line in open('SPM587SP19_issues.json')]"
   ]
  },
  {
   "cell_type": "code",
   "execution_count": 3,
   "metadata": {},
   "outputs": [],
   "source": [
    "# Create the DataFrame object for the list_of_issues_dict_data object\n",
    "\n",
    "issues_df = DataFrame(list_of_issues_dict_data)"
   ]
  },
  {
   "cell_type": "code",
   "execution_count": 5,
   "metadata": {},
   "outputs": [
    {
     "data": {
      "text/html": [
       "<div>\n",
       "<style scoped>\n",
       "    .dataframe tbody tr th:only-of-type {\n",
       "        vertical-align: middle;\n",
       "    }\n",
       "\n",
       "    .dataframe tbody tr th {\n",
       "        vertical-align: top;\n",
       "    }\n",
       "\n",
       "    .dataframe thead th {\n",
       "        text-align: right;\n",
       "    }\n",
       "</style>\n",
       "<table border=\"1\" class=\"dataframe\">\n",
       "  <thead>\n",
       "    <tr style=\"text-align: right;\">\n",
       "      <th></th>\n",
       "      <th>Author</th>\n",
       "      <th>State</th>\n",
       "      <th>closed_at</th>\n",
       "      <th>created_at</th>\n",
       "      <th>issue_number</th>\n",
       "      <th>labels</th>\n",
       "    </tr>\n",
       "  </thead>\n",
       "  <tbody>\n",
       "    <tr>\n",
       "      <th>0</th>\n",
       "      <td>DSP19SCM782</td>\n",
       "      <td>open</td>\n",
       "      <td>None</td>\n",
       "      <td>2019-04-21</td>\n",
       "      <td>491</td>\n",
       "      <td>[Category:Bug, DetectionPhase:Field, Originati...</td>\n",
       "    </tr>\n",
       "    <tr>\n",
       "      <th>1</th>\n",
       "      <td>DSP19SCM782</td>\n",
       "      <td>open</td>\n",
       "      <td>None</td>\n",
       "      <td>2019-04-21</td>\n",
       "      <td>490</td>\n",
       "      <td>[Category:Bug, DetectionPhase:Design, Originat...</td>\n",
       "    </tr>\n",
       "    <tr>\n",
       "      <th>2</th>\n",
       "      <td>DSP19SCM781</td>\n",
       "      <td>open</td>\n",
       "      <td>None</td>\n",
       "      <td>2019-04-21</td>\n",
       "      <td>489</td>\n",
       "      <td>[Category:Enhancement, DetectionPhase:Coding, ...</td>\n",
       "    </tr>\n",
       "    <tr>\n",
       "      <th>3</th>\n",
       "      <td>DSP19SCM781</td>\n",
       "      <td>open</td>\n",
       "      <td>None</td>\n",
       "      <td>2019-04-21</td>\n",
       "      <td>488</td>\n",
       "      <td>[Category:Bug, DetectionPhase:Testing, Origina...</td>\n",
       "    </tr>\n",
       "    <tr>\n",
       "      <th>4</th>\n",
       "      <td>DSP19SCM781</td>\n",
       "      <td>open</td>\n",
       "      <td>None</td>\n",
       "      <td>2019-04-21</td>\n",
       "      <td>487</td>\n",
       "      <td>[Category:Inquiry, DetectionPhase:Design, Orig...</td>\n",
       "    </tr>\n",
       "  </tbody>\n",
       "</table>\n",
       "</div>"
      ],
      "text/plain": [
       "        Author State closed_at  created_at  issue_number  \\\n",
       "0  DSP19SCM782  open      None  2019-04-21           491   \n",
       "1  DSP19SCM782  open      None  2019-04-21           490   \n",
       "2  DSP19SCM781  open      None  2019-04-21           489   \n",
       "3  DSP19SCM781  open      None  2019-04-21           488   \n",
       "4  DSP19SCM781  open      None  2019-04-21           487   \n",
       "\n",
       "                                              labels  \n",
       "0  [Category:Bug, DetectionPhase:Field, Originati...  \n",
       "1  [Category:Bug, DetectionPhase:Design, Originat...  \n",
       "2  [Category:Enhancement, DetectionPhase:Coding, ...  \n",
       "3  [Category:Bug, DetectionPhase:Testing, Origina...  \n",
       "4  [Category:Inquiry, DetectionPhase:Design, Orig...  "
      ]
     },
     "execution_count": 5,
     "metadata": {},
     "output_type": "execute_result"
    }
   ],
   "source": [
    "# Sanity test: print first 10 rows in our DataFrame\n",
    "issues_df.head()  "
   ]
  },
  {
   "cell_type": "code",
   "execution_count": 6,
   "metadata": {},
   "outputs": [],
   "source": [
    "# Prepare and Clean the dataframe object\n",
    "\n",
    "wrangled_issues_df = issues_df[['Author','State','closed_at','created_at','issue_number','labels']]\n",
    "wrangled_issues_df.loc[0:len(wrangled_issues_df), 'OriginationPhase']= np.NaN\n",
    "wrangled_issues_df.loc[0:len(wrangled_issues_df),'DetectionPhase']= np.NaN\n",
    "wrangled_issues_df.loc[0:len(wrangled_issues_df),'Category']= np.NaN\n",
    "wrangled_issues_df.loc[0:len(wrangled_issues_df),'Priority']= np.NaN\n",
    "wrangled_issues_df.loc[0:len(wrangled_issues_df),'Status']= np.NaN\n"
   ]
  },
  {
   "cell_type": "code",
   "execution_count": 9,
   "metadata": {},
   "outputs": [
    {
     "data": {
      "text/html": [
       "<div>\n",
       "<style scoped>\n",
       "    .dataframe tbody tr th:only-of-type {\n",
       "        vertical-align: middle;\n",
       "    }\n",
       "\n",
       "    .dataframe tbody tr th {\n",
       "        vertical-align: top;\n",
       "    }\n",
       "\n",
       "    .dataframe thead th {\n",
       "        text-align: right;\n",
       "    }\n",
       "</style>\n",
       "<table border=\"1\" class=\"dataframe\">\n",
       "  <thead>\n",
       "    <tr style=\"text-align: right;\">\n",
       "      <th></th>\n",
       "      <th>Author</th>\n",
       "      <th>State</th>\n",
       "      <th>closed_at</th>\n",
       "      <th>created_at</th>\n",
       "      <th>issue_number</th>\n",
       "      <th>labels</th>\n",
       "      <th>OriginationPhase</th>\n",
       "      <th>DetectionPhase</th>\n",
       "      <th>Category</th>\n",
       "      <th>Priority</th>\n",
       "      <th>Status</th>\n",
       "    </tr>\n",
       "  </thead>\n",
       "  <tbody>\n",
       "    <tr>\n",
       "      <th>0</th>\n",
       "      <td>DSP19SCM782</td>\n",
       "      <td>open</td>\n",
       "      <td>None</td>\n",
       "      <td>2019-04-21</td>\n",
       "      <td>491</td>\n",
       "      <td>[Category:Bug, DetectionPhase:Field, Originati...</td>\n",
       "      <td>NaN</td>\n",
       "      <td>NaN</td>\n",
       "      <td>NaN</td>\n",
       "      <td>NaN</td>\n",
       "      <td>NaN</td>\n",
       "    </tr>\n",
       "    <tr>\n",
       "      <th>1</th>\n",
       "      <td>DSP19SCM782</td>\n",
       "      <td>open</td>\n",
       "      <td>None</td>\n",
       "      <td>2019-04-21</td>\n",
       "      <td>490</td>\n",
       "      <td>[Category:Bug, DetectionPhase:Design, Originat...</td>\n",
       "      <td>NaN</td>\n",
       "      <td>NaN</td>\n",
       "      <td>NaN</td>\n",
       "      <td>NaN</td>\n",
       "      <td>NaN</td>\n",
       "    </tr>\n",
       "    <tr>\n",
       "      <th>2</th>\n",
       "      <td>DSP19SCM781</td>\n",
       "      <td>open</td>\n",
       "      <td>None</td>\n",
       "      <td>2019-04-21</td>\n",
       "      <td>489</td>\n",
       "      <td>[Category:Enhancement, DetectionPhase:Coding, ...</td>\n",
       "      <td>NaN</td>\n",
       "      <td>NaN</td>\n",
       "      <td>NaN</td>\n",
       "      <td>NaN</td>\n",
       "      <td>NaN</td>\n",
       "    </tr>\n",
       "    <tr>\n",
       "      <th>3</th>\n",
       "      <td>DSP19SCM781</td>\n",
       "      <td>open</td>\n",
       "      <td>None</td>\n",
       "      <td>2019-04-21</td>\n",
       "      <td>488</td>\n",
       "      <td>[Category:Bug, DetectionPhase:Testing, Origina...</td>\n",
       "      <td>NaN</td>\n",
       "      <td>NaN</td>\n",
       "      <td>NaN</td>\n",
       "      <td>NaN</td>\n",
       "      <td>NaN</td>\n",
       "    </tr>\n",
       "    <tr>\n",
       "      <th>4</th>\n",
       "      <td>DSP19SCM781</td>\n",
       "      <td>open</td>\n",
       "      <td>None</td>\n",
       "      <td>2019-04-21</td>\n",
       "      <td>487</td>\n",
       "      <td>[Category:Inquiry, DetectionPhase:Design, Orig...</td>\n",
       "      <td>NaN</td>\n",
       "      <td>NaN</td>\n",
       "      <td>NaN</td>\n",
       "      <td>NaN</td>\n",
       "      <td>NaN</td>\n",
       "    </tr>\n",
       "  </tbody>\n",
       "</table>\n",
       "</div>"
      ],
      "text/plain": [
       "        Author State closed_at  created_at  issue_number  \\\n",
       "0  DSP19SCM782  open      None  2019-04-21           491   \n",
       "1  DSP19SCM782  open      None  2019-04-21           490   \n",
       "2  DSP19SCM781  open      None  2019-04-21           489   \n",
       "3  DSP19SCM781  open      None  2019-04-21           488   \n",
       "4  DSP19SCM781  open      None  2019-04-21           487   \n",
       "\n",
       "                                              labels  OriginationPhase  \\\n",
       "0  [Category:Bug, DetectionPhase:Field, Originati...               NaN   \n",
       "1  [Category:Bug, DetectionPhase:Design, Originat...               NaN   \n",
       "2  [Category:Enhancement, DetectionPhase:Coding, ...               NaN   \n",
       "3  [Category:Bug, DetectionPhase:Testing, Origina...               NaN   \n",
       "4  [Category:Inquiry, DetectionPhase:Design, Orig...               NaN   \n",
       "\n",
       "   DetectionPhase  Category  Priority  Status  \n",
       "0             NaN       NaN       NaN     NaN  \n",
       "1             NaN       NaN       NaN     NaN  \n",
       "2             NaN       NaN       NaN     NaN  \n",
       "3             NaN       NaN       NaN     NaN  \n",
       "4             NaN       NaN       NaN     NaN  "
      ]
     },
     "execution_count": 9,
     "metadata": {},
     "output_type": "execute_result"
    }
   ],
   "source": [
    "wrangled_issues_df.head()"
   ]
  },
  {
   "cell_type": "code",
   "execution_count": 10,
   "metadata": {},
   "outputs": [
    {
     "data": {
      "text/plain": [
       "Index(['Author', 'State', 'closed_at', 'created_at', 'issue_number', 'labels',\n",
       "       'OriginationPhase', 'DetectionPhase', 'Category', 'Priority', 'Status'],\n",
       "      dtype='object')"
      ]
     },
     "execution_count": 10,
     "metadata": {},
     "output_type": "execute_result"
    }
   ],
   "source": [
    "wrangled_issues_df.columns"
   ]
  },
  {
   "cell_type": "code",
   "execution_count": 11,
   "metadata": {},
   "outputs": [],
   "source": [
    "for i in range(0, len(wrangled_issues_df)):\n",
    "    if wrangled_issues_df.iloc[i]['labels']:\n",
    "        for label in wrangled_issues_df.iloc[i]['labels']:\n",
    "            label_name= (label.split(':'))[0]\n",
    "            label_value= (label.split(':'))[1]\n",
    "            wrangled_issues_df.loc[i, label_name]=label_value\n",
    " "
   ]
  },
  {
   "cell_type": "code",
   "execution_count": 12,
   "metadata": {},
   "outputs": [
    {
     "data": {
      "text/html": [
       "<div>\n",
       "<style scoped>\n",
       "    .dataframe tbody tr th:only-of-type {\n",
       "        vertical-align: middle;\n",
       "    }\n",
       "\n",
       "    .dataframe tbody tr th {\n",
       "        vertical-align: top;\n",
       "    }\n",
       "\n",
       "    .dataframe thead th {\n",
       "        text-align: right;\n",
       "    }\n",
       "</style>\n",
       "<table border=\"1\" class=\"dataframe\">\n",
       "  <thead>\n",
       "    <tr style=\"text-align: right;\">\n",
       "      <th></th>\n",
       "      <th>Author</th>\n",
       "      <th>State</th>\n",
       "      <th>closed_at</th>\n",
       "      <th>created_at</th>\n",
       "      <th>issue_number</th>\n",
       "      <th>labels</th>\n",
       "      <th>OriginationPhase</th>\n",
       "      <th>DetectionPhase</th>\n",
       "      <th>Category</th>\n",
       "      <th>Priority</th>\n",
       "      <th>Status</th>\n",
       "      <th>Address</th>\n",
       "      <th>OritinationPhase</th>\n",
       "      <th>Latitude</th>\n",
       "      <th>Longitude</th>\n",
       "      <th>Detection</th>\n",
       "      <th>Origination</th>\n",
       "    </tr>\n",
       "  </thead>\n",
       "  <tbody>\n",
       "    <tr>\n",
       "      <th>0</th>\n",
       "      <td>DSP19SCM782</td>\n",
       "      <td>open</td>\n",
       "      <td>None</td>\n",
       "      <td>2019-04-21</td>\n",
       "      <td>491</td>\n",
       "      <td>[Category:Bug, DetectionPhase:Field, Originati...</td>\n",
       "      <td>Field</td>\n",
       "      <td>Field</td>\n",
       "      <td>Bug</td>\n",
       "      <td>Major</td>\n",
       "      <td>pendingReview</td>\n",
       "      <td>NaN</td>\n",
       "      <td>NaN</td>\n",
       "      <td>NaN</td>\n",
       "      <td>NaN</td>\n",
       "      <td>NaN</td>\n",
       "      <td>NaN</td>\n",
       "    </tr>\n",
       "    <tr>\n",
       "      <th>1</th>\n",
       "      <td>DSP19SCM782</td>\n",
       "      <td>open</td>\n",
       "      <td>None</td>\n",
       "      <td>2019-04-21</td>\n",
       "      <td>490</td>\n",
       "      <td>[Category:Bug, DetectionPhase:Design, Originat...</td>\n",
       "      <td>Testing</td>\n",
       "      <td>Design</td>\n",
       "      <td>Bug</td>\n",
       "      <td>High</td>\n",
       "      <td>pendingReview</td>\n",
       "      <td>NaN</td>\n",
       "      <td>NaN</td>\n",
       "      <td>NaN</td>\n",
       "      <td>NaN</td>\n",
       "      <td>NaN</td>\n",
       "      <td>NaN</td>\n",
       "    </tr>\n",
       "    <tr>\n",
       "      <th>2</th>\n",
       "      <td>DSP19SCM781</td>\n",
       "      <td>open</td>\n",
       "      <td>None</td>\n",
       "      <td>2019-04-21</td>\n",
       "      <td>489</td>\n",
       "      <td>[Category:Enhancement, DetectionPhase:Coding, ...</td>\n",
       "      <td>Requirements</td>\n",
       "      <td>Coding</td>\n",
       "      <td>Enhancement</td>\n",
       "      <td>Low</td>\n",
       "      <td>Completed</td>\n",
       "      <td>NaN</td>\n",
       "      <td>NaN</td>\n",
       "      <td>NaN</td>\n",
       "      <td>NaN</td>\n",
       "      <td>NaN</td>\n",
       "      <td>NaN</td>\n",
       "    </tr>\n",
       "    <tr>\n",
       "      <th>3</th>\n",
       "      <td>DSP19SCM781</td>\n",
       "      <td>open</td>\n",
       "      <td>None</td>\n",
       "      <td>2019-04-21</td>\n",
       "      <td>488</td>\n",
       "      <td>[Category:Bug, DetectionPhase:Testing, Origina...</td>\n",
       "      <td>Field</td>\n",
       "      <td>Testing</td>\n",
       "      <td>Bug</td>\n",
       "      <td>Low</td>\n",
       "      <td>Rejected</td>\n",
       "      <td>NaN</td>\n",
       "      <td>NaN</td>\n",
       "      <td>NaN</td>\n",
       "      <td>NaN</td>\n",
       "      <td>NaN</td>\n",
       "      <td>NaN</td>\n",
       "    </tr>\n",
       "    <tr>\n",
       "      <th>4</th>\n",
       "      <td>DSP19SCM781</td>\n",
       "      <td>open</td>\n",
       "      <td>None</td>\n",
       "      <td>2019-04-21</td>\n",
       "      <td>487</td>\n",
       "      <td>[Category:Inquiry, DetectionPhase:Design, Orig...</td>\n",
       "      <td>Documentation</td>\n",
       "      <td>Design</td>\n",
       "      <td>Inquiry</td>\n",
       "      <td>Major</td>\n",
       "      <td>pendingReview</td>\n",
       "      <td>NaN</td>\n",
       "      <td>NaN</td>\n",
       "      <td>NaN</td>\n",
       "      <td>NaN</td>\n",
       "      <td>NaN</td>\n",
       "      <td>NaN</td>\n",
       "    </tr>\n",
       "  </tbody>\n",
       "</table>\n",
       "</div>"
      ],
      "text/plain": [
       "        Author State closed_at  created_at  issue_number  \\\n",
       "0  DSP19SCM782  open      None  2019-04-21           491   \n",
       "1  DSP19SCM782  open      None  2019-04-21           490   \n",
       "2  DSP19SCM781  open      None  2019-04-21           489   \n",
       "3  DSP19SCM781  open      None  2019-04-21           488   \n",
       "4  DSP19SCM781  open      None  2019-04-21           487   \n",
       "\n",
       "                                              labels OriginationPhase  \\\n",
       "0  [Category:Bug, DetectionPhase:Field, Originati...            Field   \n",
       "1  [Category:Bug, DetectionPhase:Design, Originat...          Testing   \n",
       "2  [Category:Enhancement, DetectionPhase:Coding, ...     Requirements   \n",
       "3  [Category:Bug, DetectionPhase:Testing, Origina...            Field   \n",
       "4  [Category:Inquiry, DetectionPhase:Design, Orig...    Documentation   \n",
       "\n",
       "  DetectionPhase     Category Priority         Status Address  \\\n",
       "0          Field          Bug    Major  pendingReview     NaN   \n",
       "1         Design          Bug     High  pendingReview     NaN   \n",
       "2         Coding  Enhancement      Low      Completed     NaN   \n",
       "3        Testing          Bug      Low       Rejected     NaN   \n",
       "4         Design      Inquiry    Major  pendingReview     NaN   \n",
       "\n",
       "  OritinationPhase Latitude Longitude Detection Origination  \n",
       "0              NaN      NaN       NaN       NaN         NaN  \n",
       "1              NaN      NaN       NaN       NaN         NaN  \n",
       "2              NaN      NaN       NaN       NaN         NaN  \n",
       "3              NaN      NaN       NaN       NaN         NaN  \n",
       "4              NaN      NaN       NaN       NaN         NaN  "
      ]
     },
     "execution_count": 12,
     "metadata": {},
     "output_type": "execute_result"
    }
   ],
   "source": [
    "wrangled_issues_df.head()"
   ]
  },
  {
   "cell_type": "code",
   "execution_count": 14,
   "metadata": {},
   "outputs": [
    {
     "data": {
      "image/png": "[encoded data removed]",
      "text/plain": [
       "<Figure size 432x288 with 1 Axes>"
      ]
     },
     "metadata": {},
     "output_type": "display_data"
    }
   ],
   "source": [
    "# Plot in Bar Chart the total number of issues created every day for every Detaction Phase\n",
    "\n",
    "LabelsReviewedByDate = wrangled_issues_df.groupby(['created_at','DetectionPhase']).created_at.count()\n",
    "\n",
    "dateLabelsFig = LabelsReviewedByDate.unstack().plot(kind='bar',stacked=True,  color=['red', 'yellow', 'blue', 'purple', 'green'], grid=True)"
   ]
  },
  {
   "cell_type": "markdown",
   "metadata": {},
   "source": [
    "## Requirement #1: Plot in Bar Chart the total number of issues closed every day for every Origination Phase"
   ]
  },
  {
   "cell_type": "code",
   "execution_count": 16,
   "metadata": {},
   "outputs": [
    {
     "data": {
      "image/png": "[encoded data removed]",
      "text/plain": [
       "<Figure size 432x288 with 1 Axes>"
      ]
     },
     "metadata": {},
     "output_type": "display_data"
    }
   ],
   "source": [
    "# Plot in Bar Chart the total number of issues closed every day for every Category\n",
    "\n",
    "LabelsReviewedByDate = wrangled_issues_df.groupby(['closed_at','Category']).closed_at.count()\n",
    "\n",
    "dateLabelsFig = LabelsReviewedByDate.unstack().plot(kind='bar',stacked=True,  color=['blue', 'purple', 'red', 'yellow', 'green'], grid=True)"
   ]
  },
  {
   "cell_type": "markdown",
   "metadata": {},
   "source": [
    "## Requirement #2: Plot in Bar Chart the total number of issues created for every Phase based on their Status"
   ]
  },
  {
   "cell_type": "code",
   "execution_count": 17,
   "metadata": {},
   "outputs": [
    {
     "data": {
      "image/png": "[encoded data removed]",
      "text/plain": [
       "<Figure size 432x288 with 1 Axes>"
      ]
     },
     "metadata": {},
     "output_type": "display_data"
    }
   ],
   "source": [
    "# Plot in Bar Chart the total number of issues created for every Phase based on thier priorites\n",
    "\n",
    "LabelsReviewedByDate = wrangled_issues_df.groupby(['Priority','DetectionPhase']).created_at.count()\n",
    "\n",
    "dateLabelsFig = LabelsReviewedByDate.unstack().plot(kind='bar',stacked=True,  \n",
    "                                                    color=['blue','yellow', 'purple', 'red', 'green'], grid=True)"
   ]
  },
  {
   "cell_type": "code",
   "execution_count": 18,
   "metadata": {},
   "outputs": [],
   "source": [
    "LabelsReviewedByPriority = wrangled_issues_df[(wrangled_issues_df.Priority == 'Critical') & (wrangled_issues_df.DetectionPhase == 'Field')].groupby(['Priority','DetectionPhase']).Priority.count()"
   ]
  },
  {
   "cell_type": "code",
   "execution_count": 40,
   "metadata": {
    "scrolled": true
   },
   "outputs": [
    {
     "data": {
      "text/plain": [
       "pandas.core.series.Series"
      ]
     },
     "execution_count": 40,
     "metadata": {},
     "output_type": "execute_result"
    }
   ],
   "source": [
    "type(LabelsReviewedByPriority)"
   ]
  },
  {
   "cell_type": "code",
   "execution_count": 41,
   "metadata": {},
   "outputs": [],
   "source": [
    "# LabelsReviewedByPriority.as_matrix"
   ]
  },
  {
   "cell_type": "markdown",
   "metadata": {},
   "source": [
    "## 1) DetectionPhase is Field AND Priority is Critical"
   ]
  },
  {
   "cell_type": "code",
   "execution_count": 34,
   "metadata": {},
   "outputs": [
    {
     "data": {
      "image/png": "[encoded data removed]",
      "text/plain": [
       "<Figure size 432x288 with 1 Axes>"
      ]
     },
     "metadata": {},
     "output_type": "display_data"
    }
   ],
   "source": [
    "dateLabelsFig = LabelsReviewedByPriority.unstack().plot(kind='bar',stacked=True,  color=['black'], grid=False)"
   ]
  },
  {
   "cell_type": "markdown",
   "metadata": {},
   "source": [
    "## 2) DetectionPhase is Field AND Status is Completed"
   ]
  },
  {
   "cell_type": "code",
   "execution_count": 43,
   "metadata": {},
   "outputs": [],
   "source": [
    "LabelsReviewedByStatus = wrangled_issues_df[(wrangled_issues_df.Status == 'Completed') & (wrangled_issues_df.DetectionPhase == 'Field')].groupby(['Status','DetectionPhase']).Priority.count()"
   ]
  },
  {
   "cell_type": "code",
   "execution_count": 45,
   "metadata": {},
   "outputs": [
    {
     "data": {
      "image/png": "[encoded data removed]",
      "text/plain": [
       "<Figure size 432x288 with 1 Axes>"
      ]
     },
     "metadata": {},
     "output_type": "display_data"
    }
   ],
   "source": [
    "dateLabelsFig = LabelsReviewedByStatus.unstack().plot(kind='bar',stacked=True,  color=['Black'], grid=False)"
   ]
  },
  {
   "cell_type": "markdown",
   "metadata": {},
   "source": [
    "## 3) DetectionPhase is Field AND Priority is Critical AND Status is Approved"
   ]
  },
  {
   "cell_type": "code",
   "execution_count": 50,
   "metadata": {},
   "outputs": [],
   "source": [
    "LabelsReviewedByPriorityStatus = wrangled_issues_df[(wrangled_issues_df.DetectionPhase == 'Field') & (wrangled_issues_df.Priority == 'Critical') & (wrangled_issues_df.Status == 'Approved')]\n",
    "\n"
   ]
  },
  {
   "cell_type": "code",
   "execution_count": 51,
   "metadata": {},
   "outputs": [
    {
     "data": {
      "text/html": [
       "<div>\n",
       "<style scoped>\n",
       "    .dataframe tbody tr th:only-of-type {\n",
       "        vertical-align: middle;\n",
       "    }\n",
       "\n",
       "    .dataframe tbody tr th {\n",
       "        vertical-align: top;\n",
       "    }\n",
       "\n",
       "    .dataframe thead th {\n",
       "        text-align: right;\n",
       "    }\n",
       "</style>\n",
       "<table border=\"1\" class=\"dataframe\">\n",
       "  <thead>\n",
       "    <tr style=\"text-align: right;\">\n",
       "      <th></th>\n",
       "      <th>Author</th>\n",
       "      <th>State</th>\n",
       "      <th>closed_at</th>\n",
       "      <th>created_at</th>\n",
       "      <th>issue_number</th>\n",
       "      <th>labels</th>\n",
       "      <th>OriginationPhase</th>\n",
       "      <th>DetectionPhase</th>\n",
       "      <th>Category</th>\n",
       "      <th>Priority</th>\n",
       "      <th>Status</th>\n",
       "      <th>Address</th>\n",
       "      <th>OritinationPhase</th>\n",
       "      <th>Latitude</th>\n",
       "      <th>Longitude</th>\n",
       "      <th>Detection</th>\n",
       "      <th>Origination</th>\n",
       "    </tr>\n",
       "  </thead>\n",
       "  <tbody>\n",
       "    <tr>\n",
       "      <th>6</th>\n",
       "      <td>SSP19SCM781</td>\n",
       "      <td>open</td>\n",
       "      <td>None</td>\n",
       "      <td>2019-04-20</td>\n",
       "      <td>485</td>\n",
       "      <td>[Category:Enhancement, DetectionPhase:Field, O...</td>\n",
       "      <td>Testing</td>\n",
       "      <td>Field</td>\n",
       "      <td>Enhancement</td>\n",
       "      <td>Critical</td>\n",
       "      <td>Approved</td>\n",
       "      <td>NaN</td>\n",
       "      <td>NaN</td>\n",
       "      <td>NaN</td>\n",
       "      <td>NaN</td>\n",
       "      <td>NaN</td>\n",
       "      <td>NaN</td>\n",
       "    </tr>\n",
       "    <tr>\n",
       "      <th>33</th>\n",
       "      <td>DSP19SCM781</td>\n",
       "      <td>open</td>\n",
       "      <td>None</td>\n",
       "      <td>2019-04-17</td>\n",
       "      <td>455</td>\n",
       "      <td>[Category:Inquiry, DetectionPhase:Field, Origi...</td>\n",
       "      <td>Coding</td>\n",
       "      <td>Field</td>\n",
       "      <td>Inquiry</td>\n",
       "      <td>Critical</td>\n",
       "      <td>Approved</td>\n",
       "      <td>NaN</td>\n",
       "      <td>NaN</td>\n",
       "      <td>NaN</td>\n",
       "      <td>NaN</td>\n",
       "      <td>NaN</td>\n",
       "      <td>NaN</td>\n",
       "    </tr>\n",
       "    <tr>\n",
       "      <th>42</th>\n",
       "      <td>DSP19SCM781</td>\n",
       "      <td>closed</td>\n",
       "      <td>2019-04-21</td>\n",
       "      <td>2019-04-16</td>\n",
       "      <td>446</td>\n",
       "      <td>[Category:Enhancement, DetectionPhase:Field, O...</td>\n",
       "      <td>Documentation</td>\n",
       "      <td>Field</td>\n",
       "      <td>Enhancement</td>\n",
       "      <td>Critical</td>\n",
       "      <td>Approved</td>\n",
       "      <td>NaN</td>\n",
       "      <td>NaN</td>\n",
       "      <td>NaN</td>\n",
       "      <td>NaN</td>\n",
       "      <td>NaN</td>\n",
       "      <td>NaN</td>\n",
       "    </tr>\n",
       "    <tr>\n",
       "      <th>52</th>\n",
       "      <td>RSP19SCM781</td>\n",
       "      <td>closed</td>\n",
       "      <td>2019-04-18</td>\n",
       "      <td>2019-04-15</td>\n",
       "      <td>436</td>\n",
       "      <td>[Category:Bug, DetectionPhase:Field, Originati...</td>\n",
       "      <td>Requirements</td>\n",
       "      <td>Field</td>\n",
       "      <td>Bug</td>\n",
       "      <td>Critical</td>\n",
       "      <td>Approved</td>\n",
       "      <td>NaN</td>\n",
       "      <td>NaN</td>\n",
       "      <td>NaN</td>\n",
       "      <td>NaN</td>\n",
       "      <td>NaN</td>\n",
       "      <td>NaN</td>\n",
       "    </tr>\n",
       "    <tr>\n",
       "      <th>63</th>\n",
       "      <td>TSP19SCM781</td>\n",
       "      <td>closed</td>\n",
       "      <td>2019-04-15</td>\n",
       "      <td>2019-04-14</td>\n",
       "      <td>425</td>\n",
       "      <td>[Category:Enhancement, DetectionPhase:Field, O...</td>\n",
       "      <td>NaN</td>\n",
       "      <td>Field</td>\n",
       "      <td>Enhancement</td>\n",
       "      <td>Critical</td>\n",
       "      <td>Approved</td>\n",
       "      <td>NaN</td>\n",
       "      <td>Design</td>\n",
       "      <td>NaN</td>\n",
       "      <td>NaN</td>\n",
       "      <td>NaN</td>\n",
       "      <td>NaN</td>\n",
       "    </tr>\n",
       "  </tbody>\n",
       "</table>\n",
       "</div>"
      ],
      "text/plain": [
       "         Author   State   closed_at  created_at  issue_number  \\\n",
       "6   SSP19SCM781    open        None  2019-04-20           485   \n",
       "33  DSP19SCM781    open        None  2019-04-17           455   \n",
       "42  DSP19SCM781  closed  2019-04-21  2019-04-16           446   \n",
       "52  RSP19SCM781  closed  2019-04-18  2019-04-15           436   \n",
       "63  TSP19SCM781  closed  2019-04-15  2019-04-14           425   \n",
       "\n",
       "                                               labels OriginationPhase  \\\n",
       "6   [Category:Enhancement, DetectionPhase:Field, O...          Testing   \n",
       "33  [Category:Inquiry, DetectionPhase:Field, Origi...           Coding   \n",
       "42  [Category:Enhancement, DetectionPhase:Field, O...    Documentation   \n",
       "52  [Category:Bug, DetectionPhase:Field, Originati...     Requirements   \n",
       "63  [Category:Enhancement, DetectionPhase:Field, O...              NaN   \n",
       "\n",
       "   DetectionPhase     Category  Priority    Status Address OritinationPhase  \\\n",
       "6           Field  Enhancement  Critical  Approved     NaN              NaN   \n",
       "33          Field      Inquiry  Critical  Approved     NaN              NaN   \n",
       "42          Field  Enhancement  Critical  Approved     NaN              NaN   \n",
       "52          Field          Bug  Critical  Approved     NaN              NaN   \n",
       "63          Field  Enhancement  Critical  Approved     NaN           Design   \n",
       "\n",
       "   Latitude Longitude Detection Origination  \n",
       "6       NaN       NaN       NaN         NaN  \n",
       "33      NaN       NaN       NaN         NaN  \n",
       "42      NaN       NaN       NaN         NaN  \n",
       "52      NaN       NaN       NaN         NaN  \n",
       "63      NaN       NaN       NaN         NaN  "
      ]
     },
     "execution_count": 51,
     "metadata": {},
     "output_type": "execute_result"
    }
   ],
   "source": [
    "LabelsReviewedByPriorityStatus.head()"
   ]
  },
  {
   "cell_type": "code",
   "execution_count": 52,
   "metadata": {},
   "outputs": [
    {
     "data": {
      "image/png": "[encoded data removed]",
      "text/plain": [
       "<Figure size 432x288 with 1 Axes>"
      ]
     },
     "metadata": {},
     "output_type": "display_data"
    }
   ],
   "source": [
    "LabelsReviewedByPriorityStatus = LabelsReviewedByPriorityStatus.groupby(['Status','DetectionPhase']).Status.count()\n",
    "dateLabelsFig = LabelsReviewedByPriorityStatus.unstack().plot(kind='bar',stacked=True,  color=['black'], grid=False)"
   ]
  },
  {
   "cell_type": "markdown",
   "metadata": {},
   "source": [
    "## 4) DetectionPhase is Field AND Priority is Critical or High AND Status is Approved or inProgress"
   ]
  },
  {
   "cell_type": "code",
   "execution_count": 58,
   "metadata": {},
   "outputs": [],
   "source": [
    "LabelsReviewedByPriorityStatus = wrangled_issues_df[(wrangled_issues_df.DetectionPhase == 'Field') & ((wrangled_issues_df.Priority == 'Critical') | (wrangled_issues_df.Priority == 'High')) & (wrangled_issues_df.Status == 'Approved')]"
   ]
  },
  {
   "cell_type": "code",
   "execution_count": 59,
   "metadata": {},
   "outputs": [
    {
     "data": {
      "image/png": "[encoded data removed]",
      "text/plain": [
       "<Figure size 432x288 with 1 Axes>"
      ]
     },
     "metadata": {},
     "output_type": "display_data"
    }
   ],
   "source": [
    "ReviewedByPriority = LabelsReviewedByPriorityStatus.groupby(['Priority','DetectionPhase']).Priority.count()\n",
    "dateLabelsFig = ReviewedByPriority.unstack().plot(kind='bar',stacked=True,  color=['purple'],grid=False)"
   ]
  },
  {
   "cell_type": "code",
   "execution_count": 68,
   "metadata": {},
   "outputs": [],
   "source": [
    "# plt.plot(len(LabelsReviewedByPriority), LabelsReviewedByPriority)"
   ]
  },
  {
   "cell_type": "code",
   "execution_count": null,
   "metadata": {},
   "outputs": [],
   "source": []
  },
  {
   "cell_type": "code",
   "execution_count": null,
   "metadata": {},
   "outputs": [],
   "source": []
  }
 ],
 "metadata": {
  "kernelspec": {
   "display_name": "Python 3",
   "language": "python",
   "name": "python3"
  },
  "language_info": {
   "codemirror_mode": {
    "name": "ipython",
    "version": 3
   },
   "file_extension": ".py",
   "mimetype": "text/x-python",
   "name": "python",
   "nbconvert_exporter": "python",
   "pygments_lexer": "ipython3",
   "version": "3.7.3"
  }
 },
 "nbformat": 4,
 "nbformat_minor": 2
}
