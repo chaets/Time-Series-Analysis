{
 "cells": [
  {
   "cell_type": "code",
   "execution_count": 1,
   "metadata": {},
   "outputs": [],
   "source": [
    "# pip install github3.py command for install github3\n",
    "# execute pip install github3.py command from the the command window/terminal\n",
    "\n",
    "import github3, json"
   ]
  },
  {
   "cell_type": "markdown",
   "metadata": {},
   "source": [
    "## Issues Json file extracted"
   ]
  },
  {
   "cell_type": "code",
   "execution_count": 2,
   "metadata": {},
   "outputs": [],
   "source": [
    "GITHUB_TOKEN = #intesert your github token from github api\n",
    "ORG = 'SPM587SP19'                     \n",
    "REPO = 'SCM587SP19'\n",
    "FILENAME_ISSUES = ORG + '_issues.json'"
   ]
  },
  {
   "cell_type": "code",
   "execution_count": 3,
   "metadata": {},
   "outputs": [],
   "source": [
    "gh = github3.login(token=GITHUB_TOKEN)"
   ]
  },
  {
   "cell_type": "code",
   "execution_count": 4,
   "metadata": {},
   "outputs": [],
   "source": [
    "\n",
    "\n",
    "f = open(FILENAME_ISSUES, 'w')\n",
    "for issue in gh.search_issues('type:issue repo:SPM587SP19/SCM587SP19'):          # Find issues from given Repo\n",
    "            label_name=[]\n",
    "            data={}\n",
    "            current_issue = issue.as_json()\n",
    "            current_issue = json.loads(current_issue)\n",
    "#             print(current_issue, '\\n')\n",
    "            data['issue_number']=current_issue[\"number\"]                          # Get issue number              \n",
    "            data['created_at']= current_issue[\"created_at\"][0:10]                 # Get created date of issue\n",
    "            if current_issue[\"closed_at\"] == None:\n",
    "                data['closed_at']= current_issue[\"closed_at\"]\n",
    "            else:\n",
    "                data['closed_at']= current_issue[\"closed_at\"][0:10]               # Get closed date of issue\n",
    "            for label in current_issue[\"labels\"]:\n",
    "                label_name.append(label[\"name\"])                                  # Get label name of issue\n",
    "            data['labels']= label_name\n",
    "            data['State'] = current_issue[\"state\"]                                # It gives state of issue like closed or open\n",
    "            data['Author'] = current_issue[\"user\"][\"login\"]                       # Get Author of issue\n",
    "            out=json.dumps(data)                                                  # save this all information to a JSON file\n",
    "            f.write(out+ '\\n')\n",
    "f.close()"
   ]
  },
  {
   "cell_type": "markdown",
   "metadata": {},
   "source": [
    "## Pull request json"
   ]
  },
  {
   "cell_type": "code",
   "execution_count": 5,
   "metadata": {},
   "outputs": [],
   "source": [
    "# JSON Files to be saved\n",
    "\n",
    "FILENAME_PULLS = ORG + '_pulls.json'\n",
    "repo = gh.repository(owner='SPM587SP19',repository='SCM587SP19')"
   ]
  },
  {
   "cell_type": "code",
   "execution_count": 6,
   "metadata": {},
   "outputs": [],
   "source": [
    "f = open(FILENAME_PULLS, 'w')\n",
    "for issue in repo.pull_requests(state='all'):\n",
    "    data = {}\n",
    "    current_issue = issue.as_json()\n",
    "    current_issue = json.loads(current_issue)\n",
    "    try:\n",
    "        data['issue_number']=current_issue[\"number\"]\n",
    "        data['created_at']= current_issue[\"created_at\"][0:10]\n",
    "        data['id'] = current_issue[\"id\"]\n",
    "        data['user id'] = current_issue[\"user\"][\"login\"]\n",
    "        output = json.dumps(data)                                                  # save this all information to a JSON file\n",
    "        f.write(output+ '\\n')\n",
    "    except:\n",
    "        pass\n",
    "    \n",
    "f.close()"
   ]
  },
  {
   "cell_type": "code",
   "execution_count": 7,
   "metadata": {},
   "outputs": [],
   "source": [
    "# JSON Files to be saved\n",
    "\n",
    "FILENAME_COMMITS = ORG + '_commits.json'\n",
    "\n",
    "repo = gh.repository(owner='SPM587SP19',repository='SCM587SP19')"
   ]
  },
  {
   "cell_type": "code",
   "execution_count": 8,
   "metadata": {},
   "outputs": [],
   "source": [
    "f = open(FILENAME_COMMITS, 'w')\n",
    "\n",
    "for issue in repo.commits():\n",
    "    data = {}\n",
    "    current_issue = issue.as_json()\n",
    "    current_issue = json.loads(current_issue)\n",
    "    #print(current_issue)\n",
    "    try:\n",
    "        data['id'] = current_issue[\"author\"][\"id\"]\n",
    "        data['created_at'] = current_issue[\"commit\"][\"author\"][\"date\"]\n",
    "        data['Author'] = current_issue[\"commit\"][\"author\"][\"name\"]\n",
    "        data[\"Email\"] = current_issue[\"commit\"][\"author\"][\"email\"]\n",
    "        output = json.dumps(data)                                                  # save this all information to a JSON file\n",
    "        f.write(output+ '\\n')\n",
    "    except:\n",
    "        pass\n",
    "\n",
    "f.close()"
   ]
  },
  {
   "cell_type": "code",
   "execution_count": null,
   "metadata": {},
   "outputs": [],
   "source": []
  }
 ],
 "metadata": {
  "kernelspec": {
   "display_name": "Python 3",
   "language": "python",
   "name": "python3"
  },
  "language_info": {
   "codemirror_mode": {
    "name": "ipython",
    "version": 3
   },
   "file_extension": ".py",
   "mimetype": "text/x-python",
   "name": "python",
   "nbconvert_exporter": "python",
   "pygments_lexer": "ipython3",
   "version": "3.6.7"
  }
 },
 "nbformat": 4,
 "nbformat_minor": 2
}
