{
 "cells": [
  {
   "cell_type": "code",
   "execution_count": 3,
   "metadata": {},
   "outputs": [],
   "source": [
    "import os\n",
    "\n",
    "#import cPickle as pickle\n",
    "import json\n",
    "import pandas as pd                                    # panda's nickname is pd\n",
    "import csv\n",
    "import numpy as np                                     # numpy as np\n",
    "import statsmodels.api as sm\n",
    "from pandas import DataFrame, Series                   # for convenience\n",
    "import statsmodels.formula.api as smf\n",
    "import matplotlib.pyplot as plt\n",
    "import psycopg2\n",
    "from psycopg2.extensions import ISOLATION_LEVEL_AUTOCOMMIT \n",
    "%matplotlib inline\n",
    "from fbprophet import Prophet"
   ]
  },
  {
   "cell_type": "code",
   "execution_count": 4,
   "metadata": {},
   "outputs": [],
   "source": [
    "Repo_data = [json.loads(line) for line in open('SPM587SP19_issues.json')]"
   ]
  },
  {
   "cell_type": "code",
   "execution_count": 5,
   "metadata": {},
   "outputs": [],
   "source": [
    "Repo_data_df=  DataFrame(Repo_data)"
   ]
  },
  {
   "cell_type": "code",
   "execution_count": 6,
   "metadata": {},
   "outputs": [
    {
     "data": {
      "text/html": [
       "<div>\n",
       "<style scoped>\n",
       "    .dataframe tbody tr th:only-of-type {\n",
       "        vertical-align: middle;\n",
       "    }\n",
       "\n",
       "    .dataframe tbody tr th {\n",
       "        vertical-align: top;\n",
       "    }\n",
       "\n",
       "    .dataframe thead th {\n",
       "        text-align: right;\n",
       "    }\n",
       "</style>\n",
       "<table border=\"1\" class=\"dataframe\">\n",
       "  <thead>\n",
       "    <tr style=\"text-align: right;\">\n",
       "      <th></th>\n",
       "      <th>Author</th>\n",
       "      <th>State</th>\n",
       "      <th>closed_at</th>\n",
       "      <th>created_at</th>\n",
       "      <th>issue_number</th>\n",
       "      <th>labels</th>\n",
       "    </tr>\n",
       "  </thead>\n",
       "  <tbody>\n",
       "    <tr>\n",
       "      <th>0</th>\n",
       "      <td>DSP19SCM782</td>\n",
       "      <td>open</td>\n",
       "      <td>None</td>\n",
       "      <td>2019-04-21</td>\n",
       "      <td>491</td>\n",
       "      <td>[Category:Bug, DetectionPhase:Field, Originati...</td>\n",
       "    </tr>\n",
       "    <tr>\n",
       "      <th>1</th>\n",
       "      <td>DSP19SCM782</td>\n",
       "      <td>open</td>\n",
       "      <td>None</td>\n",
       "      <td>2019-04-21</td>\n",
       "      <td>490</td>\n",
       "      <td>[Category:Bug, DetectionPhase:Design, Originat...</td>\n",
       "    </tr>\n",
       "    <tr>\n",
       "      <th>2</th>\n",
       "      <td>DSP19SCM781</td>\n",
       "      <td>open</td>\n",
       "      <td>None</td>\n",
       "      <td>2019-04-21</td>\n",
       "      <td>489</td>\n",
       "      <td>[Category:Enhancement, DetectionPhase:Coding, ...</td>\n",
       "    </tr>\n",
       "    <tr>\n",
       "      <th>3</th>\n",
       "      <td>DSP19SCM781</td>\n",
       "      <td>open</td>\n",
       "      <td>None</td>\n",
       "      <td>2019-04-21</td>\n",
       "      <td>488</td>\n",
       "      <td>[Category:Bug, DetectionPhase:Testing, Origina...</td>\n",
       "    </tr>\n",
       "    <tr>\n",
       "      <th>4</th>\n",
       "      <td>DSP19SCM781</td>\n",
       "      <td>open</td>\n",
       "      <td>None</td>\n",
       "      <td>2019-04-21</td>\n",
       "      <td>487</td>\n",
       "      <td>[Category:Inquiry, DetectionPhase:Design, Orig...</td>\n",
       "    </tr>\n",
       "  </tbody>\n",
       "</table>\n",
       "</div>"
      ],
      "text/plain": [
       "        Author State closed_at  created_at  issue_number  \\\n",
       "0  DSP19SCM782  open      None  2019-04-21           491   \n",
       "1  DSP19SCM782  open      None  2019-04-21           490   \n",
       "2  DSP19SCM781  open      None  2019-04-21           489   \n",
       "3  DSP19SCM781  open      None  2019-04-21           488   \n",
       "4  DSP19SCM781  open      None  2019-04-21           487   \n",
       "\n",
       "                                              labels  \n",
       "0  [Category:Bug, DetectionPhase:Field, Originati...  \n",
       "1  [Category:Bug, DetectionPhase:Design, Originat...  \n",
       "2  [Category:Enhancement, DetectionPhase:Coding, ...  \n",
       "3  [Category:Bug, DetectionPhase:Testing, Origina...  \n",
       "4  [Category:Inquiry, DetectionPhase:Design, Orig...  "
      ]
     },
     "execution_count": 6,
     "metadata": {},
     "output_type": "execute_result"
    }
   ],
   "source": [
    "Repo_data_df.head()"
   ]
  },
  {
   "cell_type": "code",
   "execution_count": 8,
   "metadata": {},
   "outputs": [],
   "source": [
    "test1= Repo_data_df.groupby('created_at')['issue_number'].agg(\"sum\",axis=\"columns\" ).reset_index()"
   ]
  },
  {
   "cell_type": "code",
   "execution_count": null,
   "metadata": {},
   "outputs": [],
   "source": []
  }
 ],
 "metadata": {
  "kernelspec": {
   "display_name": "Python 3",
   "language": "python",
   "name": "python3"
  },
  "language_info": {
   "codemirror_mode": {
    "name": "ipython",
    "version": 3
   },
   "file_extension": ".py",
   "mimetype": "text/x-python",
   "name": "python",
   "nbconvert_exporter": "python",
   "pygments_lexer": "ipython3",
   "version": "3.7.3"
  }
 },
 "nbformat": 4,
 "nbformat_minor": 2
}
